{
  "cells": [
    {
      "cell_type": "raw",
      "metadata": {
        "id": "IHqPtJyh74v7"
      },
      "source": [
        "\n",
        "This material, no matter whether in printed or electronic form,\n",
        "may be used for personal and non-commercial educational use only.\n",
        "Any reproduction of this manuscript,\n",
        "no matter whether as a whole or in parts,\n",
        "no matter whether in printed or in electronic form,\n",
        "requires explicit prior acceptance of the authors.\n"
      ]
    },
    {
      "cell_type": "markdown",
      "metadata": {
        "id": "hWyJItim74v-"
      },
      "source": [
        "<!-- Assignment 6 - SS 2023 -->\n",
        "\n",
        "# Adversarial Training (15 points)"
      ]
    },
    {
      "cell_type": "markdown",
      "metadata": {
        "id": "roKHQ2vy74wA"
      },
      "source": [
        "This notebook contains one of the assignments for the exercises in Deep Learning and Neural Nets 2.\n",
        "It provides a skeleton, i.e. code with gaps, that will be filled out by you in different exercises.\n",
        "All exercise descriptions are visually annotated by a vertical bar on the left and some extra indentation,\n",
        "unless you already messed with your jupyter notebook configuration.\n",
        "Any questions that are not part of the exercise statement do not need to be answered,\n",
        "but should rather be interpreted as triggers to guide your thought process.\n",
        "\n",
        "**Note**: The cells in the introductory part (before the first subtitle)\n",
        "perform all necessary imports and provide utility functions that should work without (too much) problems.\n",
        "Please, do not alter this code or add extra import statements in your submission, unless explicitly allowed!\n",
        "\n",
        "<span style=\"color:#d95c4c\">**IMPORTANT:**</span> Please, change the name of your submission file so that it contains your student ID!"
      ]
    },
    {
      "cell_type": "markdown",
      "metadata": {
        "id": "WAJAuDY874wA"
      },
      "source": [
        "In this assignment, we will play around with adversarial techniques in deep learning.\n",
        "The main goal is to build some understanding of *Generative Adversarial Networks* (GANs).\n",
        "However, we will also take a look at *adversarial training*,\n",
        "which is a collection of methods for fooling neural networks.\n",
        "Although both approaches are completely unrelated,\n",
        "it turns out that is possible to build GANs, starting from adversarial examples.\n"
      ]
    },
    {
      "cell_type": "code",
      "execution_count": null,
      "metadata": {
        "colab": {
          "base_uri": "https://localhost:8080/"
        },
        "id": "Um9YLRpc74wB",
        "outputId": "43bb1649-f0bb-42c6-ddbc-d3eeb552b63d"
      },
      "outputs": [
        {
          "output_type": "stream",
          "name": "stdout",
          "text": [
            "cuda\n"
          ]
        }
      ],
      "source": [
        "import os\n",
        "\n",
        "import torch\n",
        "from torch import nn\n",
        "from torch import optim\n",
        "from torch.utils.data import DataLoader, Dataset\n",
        "from torchvision import transforms\n",
        "from torchvision import datasets\n",
        "from PIL import Image\n",
        "\n",
        "torch.manual_seed(1806)\n",
        "torch.cuda.manual_seed(1806)\n",
        "device = 'cuda' if torch.cuda.is_available() else 'cpu'\n",
        "print(device)"
      ]
    },
    {
      "cell_type": "code",
      "execution_count": null,
      "metadata": {
        "colab": {
          "base_uri": "https://localhost:8080/"
        },
        "id": "R8-gEUWz74wD",
        "outputId": "cb36c92b-3ecc-4272-b425-bd3065d5fa6c"
      },
      "outputs": [
        {
          "output_type": "stream",
          "name": "stdout",
          "text": [
            "Mounted at /content/gdrive\n",
            "gdrive/MyDrive/.pytorch\n"
          ]
        }
      ],
      "source": [
        "# google colab data management\n",
        "import os.path\n",
        "\n",
        "try:\n",
        "    from google.colab import drive\n",
        "    drive.mount('/content/gdrive')\n",
        "    _home = 'gdrive/MyDrive/'\n",
        "except ImportError:\n",
        "    _home = '~'\n",
        "finally:\n",
        "    data_root = os.path.join(_home, '.pytorch')\n",
        "\n",
        "print(data_root)"
      ]
    },
    {
      "cell_type": "code",
      "execution_count": null,
      "metadata": {
        "id": "8Ug8HXxt74wE"
      },
      "outputs": [],
      "source": [
        "class BaseTrainer:\n",
        "\n",
        "    def __init__(self,\n",
        "         model: nn.Module,\n",
        "         criterion: nn.Module,\n",
        "         optimiser: optim.Optimizer,\n",
        "    ):\n",
        "        \"\"\"\n",
        "        Parameters\n",
        "        ----------\n",
        "        model : torch.nn.Module\n",
        "            Neural Network that will be trained.\n",
        "        criterion : torch.nn.Module\n",
        "            Loss function to use for training.\n",
        "        optimiser : torch.optim.Optimizer\n",
        "            Optimisation strategy for training.\n",
        "        tracker : Tracker, optional\n",
        "            Tracker to keep track of training progress.\n",
        "        \"\"\"\n",
        "        self.model = model\n",
        "        self.criterion = criterion\n",
        "        self.optimiser = optimiser\n",
        "\n",
        "    def state_dict(self):\n",
        "        \"\"\" Current state of learning. \"\"\"\n",
        "        return {\n",
        "            \"model\": self.model.state_dict(),\n",
        "            \"objective\": self.criterion.state_dict(),\n",
        "            \"optimiser\": self.optimiser.state_dict(),\n",
        "        }\n",
        "\n",
        "    def load_state_dict(self, state_dict: dict):\n",
        "        \"\"\" Restore learning state. \"\"\"\n",
        "        self.model.load_state_dict(state_dict[\"model\"])\n",
        "        self.criterion.load_state_dict(state_dict[\"objective\"])\n",
        "        self.optimiser.load_state_dict(state_dict[\"optimiser\"])\n",
        "\n",
        "    @property\n",
        "    def device(self):\n",
        "        \"\"\" Device of the (first) model parameters. \"\"\"\n",
        "        return next(self.model.parameters()).device\n",
        "\n",
        "    def _forward(self, data: DataLoader, metric: callable):\n",
        "        device = self.device\n",
        "        for x, y in data:\n",
        "            x, y = x.to(device), y.to(device)\n",
        "            outputs = self.model(x)\n",
        "            res = metric(outputs, y)\n",
        "            yield res\n",
        "\n",
        "    @torch.no_grad()\n",
        "    def evaluate(self, data: DataLoader, metric: callable) -> list:\n",
        "        self.model.eval()\n",
        "\n",
        "        results = self._forward(data, metric)\n",
        "        return [res.item() for res in results]\n",
        "\n",
        "\n",
        "    @torch.enable_grad()\n",
        "    def update(self, data: DataLoader) -> list:\n",
        "        opt = self.optimiser\n",
        "        self.model.train()\n",
        "\n",
        "        errs = []\n",
        "        for err in self._forward(data, self.criterion):\n",
        "            errs.append(err.item())\n",
        "\n",
        "            opt.zero_grad()\n",
        "            err.backward()\n",
        "            opt.step()\n",
        "\n",
        "        return errs\n",
        "\n",
        "    @property\n",
        "    def fake_data(self):\n",
        "        return None\n",
        "\n",
        "\n",
        "    def _display_results(self, count: int = 10):\n",
        "        \"\"\"\n",
        "        Display generated images.\n",
        "\n",
        "        Parameters\n",
        "        ----------\n",
        "        count : int, optional\n",
        "            Number of images to display.\n",
        "        \"\"\"\n",
        "        fake_data = self.fake_data\n",
        "        if fake_data is None:\n",
        "            return\n",
        "\n",
        "        x = fake_data[:count].to(self.device)\n",
        "        ps = self.model.probabilities(x).view(-1).tolist()\n",
        "        print(\"D probs:\", ', '.join([f\"{p:.2f}\" for p in ps]))\n",
        "\n",
        "        im = data_to_image(*x.cpu(), means=(.1307, ), stds=(.3081, ))\n",
        "        display(im, metadata={'width': '100%'})\n",
        "\n",
        "\n",
        "    def train(self, loader: DataLoader, num_epochs: int = 10, vis_every: int = 5):\n",
        "        \"\"\"\n",
        "        Train an auto-encoder for a number of epochs.\n",
        "\n",
        "        Parameters\n",
        "        ----------\n",
        "        loader : DataLoader\n",
        "            A data loader for iterating over batches of the data.\n",
        "        num_epochs : int, optional\n",
        "            Number of times to iterate the dataset.\n",
        "        vis_every : int, optional\n",
        "            Frequency, during training, of\n",
        "            intermediate visualisation of faked samples.\n",
        "        \"\"\"\n",
        "        # evaluate random performance\n",
        "        errs = self.evaluate(loader, self.criterion)\n",
        "        print(f\"Epoch {0: 2d} - avg loss: {sum(errs) / len(errs):.6f}\")\n",
        "        self._display_results()\n",
        "\n",
        "        # train for some epochs\n",
        "        for epoch in range(1, num_epochs + 1):\n",
        "            errs = self.update(loader)\n",
        "            print(f\"Epoch {epoch: 2d} - avg loss: {sum(errs) / len(errs):.6f}\")\n",
        "\n",
        "            if epoch % vis_every == 0:\n",
        "                self._display_results()\n",
        "\n",
        "        return errs"
      ]
    },
    {
      "cell_type": "code",
      "execution_count": null,
      "metadata": {
        "id": "i5zOz1_974wF"
      },
      "outputs": [],
      "source": [
        "@torch.no_grad()\n",
        "def accuracy(logits, targets):\n",
        "    \"\"\"\n",
        "    Compute the accuracy for given logits and targets.\n",
        "\n",
        "    Parameters\n",
        "    ----------\n",
        "    logits : (N, K) torch.Tensor\n",
        "        A mini-batch of logit vectors from the network.\n",
        "    targets : (N, ) torch.Tensor\n",
        "        A mini_batch of target scalars representing the labels.\n",
        "\n",
        "    Returns\n",
        "    -------\n",
        "    acc : () torch.Tensor\n",
        "        The accuracy over the mini-batch of samples.\n",
        "    \"\"\"\n",
        "    correct = torch.argmax(logits, dim=-1) == targets\n",
        "    acc = torch.mean(correct.float())\n",
        "    return acc"
      ]
    },
    {
      "cell_type": "code",
      "execution_count": null,
      "metadata": {
        "id": "Ix8dzFRs74wF"
      },
      "outputs": [],
      "source": [
        "def data_to_image(*data: torch.Tensor,\n",
        "                  means: tuple = (0, ), stds: tuple = (1., )) -> Image:\n",
        "    \"\"\"\n",
        "    Convert multiple tensors to one big image.\n",
        "\n",
        "    Parameters\n",
        "    ----------\n",
        "    data0, data1, ... dataN : torch.Tensor\n",
        "        One or more tensors to be merged into a single image.\n",
        "    means : tuple or torch.Tensor, optional\n",
        "        Original mean of the image before normalisation.\n",
        "    stds : tuple or torch.Tensor, optional\n",
        "        Original standard deviation of the image before normalisation.\n",
        "\n",
        "    Returns\n",
        "    -------\n",
        "    image : Image\n",
        "        PIL image with all of the tensors next to each other.\n",
        "    \"\"\"\n",
        "    # concatenate all data\n",
        "    big_pic = torch.cat([x for x in data], dim=-1)\n",
        "\n",
        "    means = torch.tensor(means)\n",
        "    stds = torch.tensor(stds)\n",
        "    to_image = transforms.Compose([\n",
        "        # inverts normalisation of image\n",
        "        transforms.Normalize(-means / stds, 1. / stds),\n",
        "        transforms.Lambda(lambda x: torch.clamp(x, 0, 1)),\n",
        "        transforms.ToPILImage()\n",
        "    ])\n",
        "\n",
        "    return to_image(big_pic)\n",
        "\n",
        "def display_fakes(discriminator: nn.Module, fake_data: torch.Tensor,\n",
        "                  count: int = 10):\n",
        "    \"\"\"\n",
        "    Display the images that are fed as fakes to a discriminator.\n",
        "\n",
        "    Parameters\n",
        "    ----------\n",
        "    discriminator : nn.Module\n",
        "        The discriminator that is to be fooled by the fakes.\n",
        "    fake_data : (N, C, H, W) torch.Tensor\n",
        "        The fake images to display.\n",
        "    count : int, optional\n",
        "        Number of samples to display from `fake_data`.\n",
        "    \"\"\"\n",
        "    device = next(discriminator.parameters()).device\n",
        "    x = fake_data[:count].to(device)\n",
        "    ps = discriminator.probabilities(x).view(-1).tolist()\n",
        "    print(\"D probs:\", ', '.join([f\"{p:.2f}\" for p in ps]))\n",
        "\n",
        "    im = data_to_image(*x.cpu(), means=(.1307, ), stds=(.3081, ))\n",
        "    display(im, metadata={'width': '100%'})"
      ]
    },
    {
      "cell_type": "code",
      "execution_count": null,
      "metadata": {
        "id": "2Bs9Zbfm74wF"
      },
      "outputs": [],
      "source": [
        "def evaluate_attack(attack: callable, network: nn.Module, data: DataLoader,\n",
        "                    loss_func: nn.Module, vis_count: int = 8, **kwargs):\n",
        "    \"\"\"\n",
        "    Evaluate an adversarial attack on some data.\n",
        "\n",
        "    Parameters\n",
        "    ----------\n",
        "    attack : callable\n",
        "        Function that computes the adversarial example.\n",
        "        Will be called as `attack(x, y, network, loss_func, **kwargs).\n",
        "    network : nn.Module\n",
        "        The network to attack.\n",
        "    data : DataLoader\n",
        "        Data for the attack.\n",
        "    loss_func : nn.Module\n",
        "        Objective for the attack.\n",
        "    vis_count : int, optional\n",
        "        Number of adversarial examples to visualise.\n",
        "    kwargs\n",
        "        Keyword arguments for the attack function.\n",
        "    \"\"\"\n",
        "    dev = next(network.parameters()).device\n",
        "    network.eval()\n",
        "\n",
        "    accuracies = []\n",
        "    for x, y in data:\n",
        "        x, y = x.to(dev), y.to(dev)\n",
        "        adv_x = attack(x, y, network, loss_func, **kwargs)\n",
        "        adv_x = adv_x.clamp(x.min(), x.max())  # put in valid range\n",
        "\n",
        "        # compute accuracy on adversarial examples\n",
        "        with torch.no_grad():\n",
        "            logits = network(adv_x)\n",
        "            acc = accuracy(logits, y)\n",
        "            accuracies.append(acc.item())\n",
        "\n",
        "    print(f\"Adversarial accuracy: {100 * accuracies[0]:.2f}%\")\n",
        "\n",
        "    # collect relevant data\n",
        "    x_ref, y_ref = x[:vis_count], y[:vis_count]\n",
        "    x_adv, y_adv = adv_x[:vis_count], logits[:vis_count].argmax(-1)\n",
        "    with torch.no_grad():\n",
        "        y_pred = network(x_ref).argmax(-1)\n",
        "\n",
        "    # visualise adversaries\n",
        "    ref_im = data_to_image(*x_ref.cpu(), means=(.1307, ), stds=(.3081, ))\n",
        "    display(ref_im, metadata={'width': '100%'})\n",
        "    print(\"ground truth: \", y_ref.tolist())\n",
        "    print(\"before attack:\", y_pred.tolist())\n",
        "    print(\"after attack: \", y_adv.tolist())\n",
        "    adv_im = data_to_image(*x_adv.cpu(), means=(.1307, ), stds=(.3081, ))\n",
        "    display(adv_im, metadata={'width': '100%'})"
      ]
    },
    {
      "cell_type": "code",
      "execution_count": null,
      "metadata": {
        "id": "EekzpD2q74wG"
      },
      "outputs": [],
      "source": [
        "class DiscriminatorTrainer(BaseTrainer):\n",
        "\n",
        "    def __init__(self, model, criterion, optimiser,\n",
        "                 dataset: \"RealOrFakeDataset\", epsilon: float = 0.1):\n",
        "        \"\"\"\n",
        "        Parameters\n",
        "        ----------\n",
        "        dataset : RealOrFakeDataset\n",
        "            The dataset that will be used to train the discriminator.\n",
        "        epsilon: float, optional\n",
        "            The maximum allowed perturbation for the adversarial attacks.\n",
        "        \"\"\"\n",
        "        super().__init__(model, criterion, optimiser)\n",
        "        self.dataset = dataset\n",
        "        self.epsilon = epsilon\n",
        "\n",
        "    @property\n",
        "    def fake_data(self):\n",
        "        return self.dataset.fake_data\n",
        "\n",
        "    def update(self, data: DataLoader) -> list:\n",
        "        results = super().update(data)\n",
        "        self.dataset.update_fake_examples(self.model, self.criterion, self.epsilon)\n",
        "        return results\n",
        "\n",
        "\n",
        "def train_gan(gan: nn.Module, loader: DataLoader, objective: nn.Module,\n",
        "              optimiser: optim.Optimizer, num_epochs: int = 10, vis_every: int = 5):\n",
        "    \"\"\"\n",
        "    Train a GAN for a number of epochs.\n",
        "\n",
        "    Parameters\n",
        "    ----------\n",
        "    gan : nn.Module\n",
        "        The GAN to train\n",
        "    loader : DataLoader\n",
        "        A data loader for iterating over batches of the data.\n",
        "        This can be a standard, \"supervised\" dataloader.\n",
        "    objective : nn.Module\n",
        "        The loss function to optimise during training.\n",
        "    optimiser : optim.Optimizer\n",
        "        The optimiser to use for training.\n",
        "    num_epochs : int, optional\n",
        "        Number of times to iterate the dataset.\n",
        "    vis_every : int, optional\n",
        "        Frequency, during training, of\n",
        "        intermediate visualisation of fake samples.\n",
        "\n",
        "    \"\"\"\n",
        "    g_errs, d_errs = [], []\n",
        "    for x, _ in loader:\n",
        "        x = x.to(device)\n",
        "        g_errs.append(generator_error(gan, x, objective).item())\n",
        "        d_errs.append(discriminator_error(gan, x, objective).item())\n",
        "    loss_report = ', '.join([\n",
        "        f\"avg G loss: {sum(g_errs) / len(g_errs):.5f}\",\n",
        "        f\"avg D loss: {sum(d_errs) / len(d_errs):.5f}\"\n",
        "    ])\n",
        "    print(f'Epoch {0: 2d}', loss_report, sep=' - ')\n",
        "    fake_data = gan.generator.generate(batch_size=10)\n",
        "    display_fakes(gan.discriminator, fake_data)\n",
        "\n",
        "    for epoch in range(1, num_epochs + 1):\n",
        "        g_errs, d_errs = update_gan(gan, loader, objective, optimiser)\n",
        "        loss_report = ', '.join([\n",
        "            f\"avg G loss: {sum(g_errs) / len(g_errs):.5f}\",\n",
        "            f\"avg D loss: {sum(d_errs) / len(d_errs):.5f}\"\n",
        "        ])\n",
        "        print(f'Epoch {epoch: 2d}', loss_report, sep=' - ')\n",
        "        if epoch % vis_every == 0:\n",
        "            fake_data = gan.generator.generate(batch_size=10)\n",
        "            display_fakes(gan.discriminator, fake_data)"
      ]
    },
    {
      "cell_type": "markdown",
      "metadata": {
        "id": "z2AciTrS74wH"
      },
      "source": [
        "## Adversarial Examples"
      ]
    },
    {
      "cell_type": "code",
      "execution_count": null,
      "metadata": {
        "colab": {
          "base_uri": "https://localhost:8080/",
          "height": 326
        },
        "id": "CMuGWGne74wH",
        "outputId": "aabf6a6e-4f2b-46fb-f24a-392b197ee730"
      },
      "outputs": [
        {
          "output_type": "error",
          "ename": "RuntimeError",
          "evalue": "Dataset not found. You can use download=True to download it",
          "traceback": [
            "\u001b[0;31m---------------------------------------------------------------------------\u001b[0m",
            "\u001b[0;31mRuntimeError\u001b[0m                              Traceback (most recent call last)",
            "\u001b[0;32m<ipython-input-8-45a875f0e524>\u001b[0m in \u001b[0;36m<cell line: 7>\u001b[0;34m()\u001b[0m\n\u001b[1;32m      5\u001b[0m     \u001b[0mtransforms\u001b[0m\u001b[0;34m.\u001b[0m\u001b[0mNormalize\u001b[0m\u001b[0;34m(\u001b[0m\u001b[0;34m(\u001b[0m\u001b[0;36m.1307\u001b[0m\u001b[0;34m,\u001b[0m \u001b[0;34m)\u001b[0m\u001b[0;34m,\u001b[0m \u001b[0;34m(\u001b[0m\u001b[0;36m.3081\u001b[0m\u001b[0;34m,\u001b[0m \u001b[0;34m)\u001b[0m\u001b[0;34m)\u001b[0m\u001b[0;34m\u001b[0m\u001b[0;34m\u001b[0m\u001b[0m\n\u001b[1;32m      6\u001b[0m ])\n\u001b[0;32m----> 7\u001b[0;31m \u001b[0mmnist_train\u001b[0m \u001b[0;34m=\u001b[0m \u001b[0mdatasets\u001b[0m\u001b[0;34m.\u001b[0m\u001b[0mMNIST\u001b[0m\u001b[0;34m(\u001b[0m\u001b[0mdata_root\u001b[0m\u001b[0;34m,\u001b[0m \u001b[0mtransform\u001b[0m\u001b[0;34m=\u001b[0m\u001b[0mpre_processing\u001b[0m\u001b[0;34m)\u001b[0m\u001b[0;34m\u001b[0m\u001b[0;34m\u001b[0m\u001b[0m\n\u001b[0m\u001b[1;32m      8\u001b[0m \u001b[0mtrain_loader\u001b[0m \u001b[0;34m=\u001b[0m \u001b[0mDataLoader\u001b[0m\u001b[0;34m(\u001b[0m\u001b[0mmnist_train\u001b[0m\u001b[0;34m,\u001b[0m \u001b[0mshuffle\u001b[0m\u001b[0;34m=\u001b[0m\u001b[0;32mTrue\u001b[0m\u001b[0;34m,\u001b[0m \u001b[0mbatch_size\u001b[0m\u001b[0;34m=\u001b[0m\u001b[0;36m128\u001b[0m\u001b[0;34m,\u001b[0m \u001b[0mnum_workers\u001b[0m\u001b[0;34m=\u001b[0m\u001b[0;36m4\u001b[0m\u001b[0;34m)\u001b[0m\u001b[0;34m\u001b[0m\u001b[0;34m\u001b[0m\u001b[0m\n\u001b[1;32m      9\u001b[0m \u001b[0;34m\u001b[0m\u001b[0m\n",
            "\u001b[0;32m/usr/local/lib/python3.10/dist-packages/torchvision/datasets/mnist.py\u001b[0m in \u001b[0;36m__init__\u001b[0;34m(self, root, train, transform, target_transform, download)\u001b[0m\n\u001b[1;32m    101\u001b[0m \u001b[0;34m\u001b[0m\u001b[0m\n\u001b[1;32m    102\u001b[0m         \u001b[0;32mif\u001b[0m \u001b[0;32mnot\u001b[0m \u001b[0mself\u001b[0m\u001b[0;34m.\u001b[0m\u001b[0m_check_exists\u001b[0m\u001b[0;34m(\u001b[0m\u001b[0;34m)\u001b[0m\u001b[0;34m:\u001b[0m\u001b[0;34m\u001b[0m\u001b[0;34m\u001b[0m\u001b[0m\n\u001b[0;32m--> 103\u001b[0;31m             \u001b[0;32mraise\u001b[0m \u001b[0mRuntimeError\u001b[0m\u001b[0;34m(\u001b[0m\u001b[0;34m\"Dataset not found. You can use download=True to download it\"\u001b[0m\u001b[0;34m)\u001b[0m\u001b[0;34m\u001b[0m\u001b[0;34m\u001b[0m\u001b[0m\n\u001b[0m\u001b[1;32m    104\u001b[0m \u001b[0;34m\u001b[0m\u001b[0m\n\u001b[1;32m    105\u001b[0m         \u001b[0mself\u001b[0m\u001b[0;34m.\u001b[0m\u001b[0mdata\u001b[0m\u001b[0;34m,\u001b[0m \u001b[0mself\u001b[0m\u001b[0;34m.\u001b[0m\u001b[0mtargets\u001b[0m \u001b[0;34m=\u001b[0m \u001b[0mself\u001b[0m\u001b[0;34m.\u001b[0m\u001b[0m_load_data\u001b[0m\u001b[0;34m(\u001b[0m\u001b[0;34m)\u001b[0m\u001b[0;34m\u001b[0m\u001b[0;34m\u001b[0m\u001b[0m\n",
            "\u001b[0;31mRuntimeError\u001b[0m: Dataset not found. You can use download=True to download it"
          ]
        }
      ],
      "source": [
        "# set up training (nothing to do here)\n",
        "\n",
        "pre_processing = transforms.Compose([\n",
        "    transforms.ToTensor(),\n",
        "    transforms.Normalize((.1307, ), (.3081, ))\n",
        "])\n",
        "mnist_train = datasets.MNIST(data_root, transform=pre_processing)\n",
        "train_loader = DataLoader(mnist_train, shuffle=True, batch_size=128, num_workers=4)\n",
        "\n",
        "mnist_net = nn.Sequential(\n",
        "    nn.Conv2d(1, 8, 4, stride=2),\n",
        "    nn.ELU(),\n",
        "    nn.Conv2d(8, 32, 3, stride=2),\n",
        "    nn.ELU(),\n",
        "    nn.Conv2d(32, 64, 6),\n",
        "    nn.ELU(),\n",
        "    nn.Flatten(),\n",
        "    nn.Linear(64, 10)\n",
        ").to(device)\n",
        "\n",
        "trainer = BaseTrainer(\n",
        "    model=mnist_net,\n",
        "    criterion=nn.CrossEntropyLoss(),\n",
        "    optimiser=optim.SGD(mnist_net.parameters(), lr=1e-2, momentum=.9)\n",
        ")"
      ]
    },
    {
      "cell_type": "code",
      "execution_count": null,
      "metadata": {
        "colab": {
          "base_uri": "https://localhost:8080/"
        },
        "id": "8c_IeuXY74wI",
        "outputId": "8d81e796-bc98-49fe-ea72-4addd0968e04"
      },
      "outputs": [
        {
          "output_type": "stream",
          "name": "stderr",
          "text": [
            "/usr/local/lib/python3.10/dist-packages/torch/nn/modules/conv.py:456: UserWarning: Plan failed with a cudnnException: CUDNN_BACKEND_EXECUTION_PLAN_DESCRIPTOR: cudnnFinalize Descriptor Failed cudnn_status: CUDNN_STATUS_NOT_SUPPORTED (Triggered internally at ../aten/src/ATen/native/cudnn/Conv_v8.cpp:919.)\n",
            "  return F.conv2d(input, weight, bias, self.stride,\n"
          ]
        },
        {
          "output_type": "stream",
          "name": "stdout",
          "text": [
            "Epoch  0 - avg loss: 2.310794\n"
          ]
        },
        {
          "output_type": "stream",
          "name": "stderr",
          "text": [
            "/usr/local/lib/python3.10/dist-packages/torch/autograd/graph.py:744: UserWarning: Plan failed with a cudnnException: CUDNN_BACKEND_EXECUTION_PLAN_DESCRIPTOR: cudnnFinalize Descriptor Failed cudnn_status: CUDNN_STATUS_NOT_SUPPORTED (Triggered internally at ../aten/src/ATen/native/cudnn/Conv_v8.cpp:919.)\n",
            "  return Variable._execution_engine.run_backward(  # Calls into the C++ engine to run the backward pass\n"
          ]
        },
        {
          "output_type": "stream",
          "name": "stdout",
          "text": [
            "Epoch  1 - avg loss: 0.356059\n",
            "Epoch  2 - avg loss: 0.112316\n",
            "Epoch  3 - avg loss: 0.074124\n",
            "Epoch  4 - avg loss: 0.056325\n",
            "Epoch  5 - avg loss: 0.046636\n",
            "Epoch  6 - avg loss: 0.036963\n",
            "Epoch  7 - avg loss: 0.030945\n",
            "Epoch  8 - avg loss: 0.025034\n",
            "Epoch  9 - avg loss: 0.020623\n",
            "Epoch  10 - avg loss: 0.018712\n",
            "Epoch  11 - avg loss: 0.015201\n",
            "Epoch  12 - avg loss: 0.013424\n",
            "Epoch  13 - avg loss: 0.010467\n",
            "Epoch  14 - avg loss: 0.008822\n",
            "Epoch  15 - avg loss: 0.007537\n",
            "Epoch  16 - avg loss: 0.007254\n",
            "Epoch  17 - avg loss: 0.005839\n",
            "Epoch  18 - avg loss: 0.004752\n",
            "Epoch  19 - avg loss: 0.003479\n",
            "Epoch  20 - avg loss: 0.002577\n",
            "Train accuracy: 99.76%\n",
            "\n",
            "CPU times: user 40.9 s, sys: 7.46 s, total: 48.3 s\n",
            "Wall time: 4min 57s\n"
          ]
        }
      ],
      "source": [
        "%%time\n",
        "\n",
        "# train MNIST classifier\n",
        "errs = trainer.train(train_loader, num_epochs=20)\n",
        "errs = trainer.evaluate(train_loader, accuracy)\n",
        "print(f\"Train accuracy: {100 * sum(errs) / len(errs):.2f}%\")\n",
        "torch.save(trainer.state_dict(), \"mnist_net.pt\")  # for testing\n",
        "print()"
      ]
    },
    {
      "cell_type": "code",
      "execution_count": null,
      "metadata": {
        "colab": {
          "base_uri": "https://localhost:8080/"
        },
        "id": "6MaUrR0-74wI",
        "outputId": "1d40b79b-0b81-4274-fa68-c07181b9ad86"
      },
      "outputs": [
        {
          "output_type": "stream",
          "name": "stdout",
          "text": [
            "Eval loss: 0.06838\n",
            "Eval accuracy: 98.39%\n"
          ]
        }
      ],
      "source": [
        "# test MNIST classifier\n",
        "trainer.load_state_dict(torch.load(\"mnist_net.pt\"))  # for testing\n",
        "mnist_test = datasets.MNIST(data_root, train=False, transform=pre_processing)\n",
        "test_loader = DataLoader(mnist_test, batch_size=len(mnist_test), num_workers=4)\n",
        "errs = trainer.evaluate(test_loader, trainer.criterion)\n",
        "print(f\"Eval loss: {errs[0]:.5f}\")\n",
        "errs = trainer.evaluate(test_loader, accuracy)\n",
        "print(f\"Eval accuracy: {100 * errs[0]:.2f}%\")"
      ]
    },
    {
      "cell_type": "markdown",
      "metadata": {
        "id": "0HIrA8I774wI"
      },
      "source": [
        "It has become extremely easy to get good models for plenty of tasks.\n",
        "It only takes a few lines of code and a handful of minutes\n",
        "to get a model that is able to recognise handwritten digits.\n",
        "This does not mean, however, that the network *understands* these images.\n",
        "It turns out that even the best models can easily be fooled\n",
        "by creating what is known as *adversarial examples*."
      ]
    },
    {
      "cell_type": "markdown",
      "metadata": {
        "id": "lbHENW9O74wJ"
      },
      "source": [
        "There are mainly two ways to make a strong network look stupid:\n",
        " 1. Change existing images until the network mis-classifies them,\n",
        " 2. Make predictions on random noise (out-of-distribution images).\n",
        "\n",
        "The first approach is an active topic in Machine Learning research.\n",
        "The main goal is to find the smallest possible perturbations\n",
        "that are required to make the network misclassify its inputs.\n",
        "\n",
        "The second approach can be considered silly because in most cases,\n",
        "a network is simply not able to express that it has no idea what to predict.\n",
        "Nevertheless, this can make systems that rely on neural networks vulnerable.\n",
        "E.g. face recognition software being fooled by carefully constructed noise."
      ]
    },
    {
      "cell_type": "markdown",
      "metadata": {
        "id": "zam2077y74wJ"
      },
      "source": [
        "### Exercise 1: Projected Gradient Ascent (5 points)\n",
        "\n",
        "One of the easiest ways to construct an adversarial example\n",
        "is to maximise the loss by using gradient ascent on the inputs.\n",
        "After all, the parameters of a neural network are also the result\n",
        "of a gradient descent that minises the loss function.\n",
        "\n",
        "In order to keep the perturbations to the original image small,\n",
        "a constraint is added to the gradient ascent for adversarial examples:\n",
        "the adversarial example must lie in an epsilon-ball around the original input.\n",
        "This procedure is also known as *projected gradient ascent*.\n",
        "\n",
        " > Implement the `adversarial_attack` function below\n",
        " > so that it implements projected gradient ascent as described above.\n",
        " > To speed up the process of finding adversarial examples,\n",
        " > you can use the sign of the gradients instead of the pure gradients.\n",
        " > Make sure not to return the computational graph!\n",
        "\n",
        "**Hint:** If you are having problems with gradient errors, your computations might involve an unwanted gradient flow."
      ]
    },
    {
      "cell_type": "code",
      "execution_count": null,
      "metadata": {
        "id": "_NIOQRGPaqsV"
      },
      "outputs": [],
      "source": [
        "def adversarial_attack(x: torch.Tensor, y: torch.Tensor,\n",
        "                       network: nn.Module, loss_func: nn.Module,\n",
        "                       epsilon: float = .1, eta: float = .1, steps: int = 10):\n",
        "    \"\"\"\n",
        "    Compute an adversarial example for a network from a given input.\n",
        "\n",
        "    Parameters\n",
        "    ----------\n",
        "    x : torch.Tensor\n",
        "        The reference input for the network.\n",
        "    y : torch.Tensor\n",
        "        The label for the reference input.\n",
        "    network : nn.Module\n",
        "        The network to compute the adversary for.\n",
        "    loss_func : nn.Module\n",
        "        The loss function the network was trained with.\n",
        "    epsilon : float, optional\n",
        "        The radius of the ball to keep the adversary within.\n",
        "    eta : float, optional\n",
        "        The step size to use for computing the adversary.\n",
        "    steps : int, optional\n",
        "        The number of gradient steps to take.\n",
        "\n",
        "    Returns\n",
        "    -------\n",
        "    adversary : torch.Tensor\n",
        "        The adversarial example (`x + perturbation`).\n",
        "    \"\"\"\n",
        "    # YOUR CODE HERE\n",
        "    # raise NotImplementedError()\n",
        "    x_advers = x.clone().detach().requires_grad_(True)\n",
        "\n",
        "    for step in range(steps):\n",
        "        _x_advers = x_advers.clone().detach().requires_grad_(True)\n",
        "        prediction = network(_x_advers)\n",
        "        loss = loss_func(prediction, y)\n",
        "        loss.backward()\n",
        "\n",
        "        # Compute gradients\n",
        "        gradients = torch.sign(_x_advers.grad) * eta\n",
        "\n",
        "       # Update adversarial example without tracking gradients\n",
        "        x_advers = x_advers + gradients.detach()\n",
        "\n",
        "        # Clamp the perturbed images to ensure they remain within the epsilon ball\n",
        "        x_advers = torch.max(torch.min(x_advers, x + epsilon), x - epsilon)\n",
        "\n",
        "        # Further clamping to ensure values remain in valid range\n",
        "        x_advers = x_advers.clamp(x - epsilon, x + epsilon).detach()\n",
        "\n",
        "    return x_advers\n"
      ]
    },
    {
      "cell_type": "code",
      "execution_count": null,
      "metadata": {
        "id": "nVr9nckS74wK"
      },
      "outputs": [],
      "source": [
        "# Test Cell: do not edit or delete!\n",
        "x = torch.ones(1, 1, 28, 28).to(trainer.device)\n",
        "y = torch.zeros(1, dtype=torch.long).to(trainer.device)\n",
        "x_adv = adversarial_attack(x, y, trainer.model, trainer.criterion, epsilon=0.1)\n",
        "assert x.shape == x_adv.shape, (\n",
        "    \"ex1: adversarial_attack produces outputs with incorrect shape (-1 point)\"\n",
        ")\n",
        "assert torch.abs(x - x_adv).max() <= 0.1 + 1e-5, (\n",
        "    \"ex1: adversarial_attack produces outputs outside of epsilon ball (-1 point)\"\n",
        ")"
      ]
    },
    {
      "cell_type": "code",
      "execution_count": null,
      "metadata": {
        "id": "Qd0wP8kR74wK"
      },
      "outputs": [],
      "source": [
        "# Test Cell: do not edit or delete!\n",
        "assert trainer.model(x_adv)[:, y] < trainer.model(x)[:, y], (\n",
        "    \"ex1: adversarial_attack produces outputs with better results (-1 point)\"\n",
        ")"
      ]
    },
    {
      "cell_type": "code",
      "execution_count": null,
      "metadata": {
        "id": "VQkMb3Uq74wK"
      },
      "outputs": [],
      "source": [
        "# Test Cell: do not edit or delete!\n",
        "assert len(torch.abs(x - x_adv).unique()) <= 5, (\n",
        "    \"ex1: adversarial_attack does not seem to change pixels fast enough (-1 point)\"\n",
        ")"
      ]
    },
    {
      "cell_type": "code",
      "execution_count": null,
      "metadata": {
        "id": "AuBDBTC674wL"
      },
      "outputs": [],
      "source": [
        "# Test Cell: do not edit or delete!"
      ]
    },
    {
      "cell_type": "code",
      "execution_count": null,
      "metadata": {
        "id": "96ltW3wi74wL"
      },
      "outputs": [],
      "source": [
        "# Test Cell: do not edit or delete!"
      ]
    },
    {
      "cell_type": "code",
      "execution_count": null,
      "metadata": {
        "id": "ZNeYzDNC74wL"
      },
      "outputs": [],
      "source": [
        "# Test Cell: do not edit or delete!"
      ]
    },
    {
      "cell_type": "code",
      "execution_count": null,
      "metadata": {
        "colab": {
          "base_uri": "https://localhost:8080/",
          "height": 195
        },
        "id": "VzrWHGhK74wM",
        "outputId": "480caf35-bef2-4045-daad-5599eb3edb97"
      },
      "outputs": [
        {
          "output_type": "stream",
          "name": "stderr",
          "text": [
            "/usr/local/lib/python3.10/dist-packages/torch/utils/data/dataloader.py:558: UserWarning: This DataLoader will create 4 worker processes in total. Our suggested max number of worker in current system is 2, which is smaller than what this DataLoader is going to create. Please be aware that excessive worker creation might get DataLoader running slow or even freeze, lower the worker number to avoid potential slowness/freeze if necessary.\n",
            "  warnings.warn(_create_warning_msg(\n"
          ]
        },
        {
          "output_type": "stream",
          "name": "stdout",
          "text": [
            "Adversarial accuracy: 51.42%\n"
          ]
        },
        {
          "output_type": "display_data",
          "data": {
            "text/plain": [
              "<PIL.Image.Image image mode=L size=224x28>"
            ],
            "image/png": "[encoded data removed]"
          },
          "metadata": {
            "width": "100%"
          }
        },
        {
          "output_type": "stream",
          "name": "stdout",
          "text": [
            "ground truth:  [7, 2, 1, 0, 4, 1, 4, 9]\n",
            "before attack: [7, 2, 1, 0, 4, 1, 4, 9]\n",
            "after attack:  [7, 2, 7, 2, 9, 7, 8, 4]\n"
          ]
        },
        {
          "output_type": "display_data",
          "data": {
            "text/plain": [
              "<PIL.Image.Image image mode=L size=224x28>"
            ],
            "image/png": "[encoded data removed]"
          },
          "metadata": {
            "width": "100%"
          }
        }
      ],
      "source": [
        "# sanity check\n",
        "trainer.model.requires_grad_(False)  # disable parameter gradients\n",
        "evaluate_attack(adversarial_attack, trainer.model, test_loader, trainer.criterion, epsilon=.3)"
      ]
    },
    {
      "cell_type": "markdown",
      "metadata": {
        "id": "CFk7ANUg74wM"
      },
      "source": [
        "## Fooling a Dummy Network\n",
        "\n",
        "Adversarial examples are considered an analysis tool\n",
        "that can help to gain insights in how neural networks behave.\n",
        "However, when pushing these methods, it turns out that\n",
        "adversarial examples can actually also be used to generate new images.\n",
        "The key point to getting useful images, is to attack the right model.\n",
        "\n",
        "Consider the task of predicting whether an input is *real* or *fake*.\n",
        "A *real* sample would be defined as an input that comes from the dataset,\n",
        "whereas a *fake* example is an input that does not appear in the dataset.\n",
        "It should be relatively easy to build a binary classification model for this task.\n",
        "Let us denote this model as a *discriminator*,\n",
        "since it discriminates between *real* and *fake* images.\n",
        "\n",
        "By using an adversarial attack on this model\n",
        "*fake* inputs can be altered to look more like *real* samples."
      ]
    },
    {
      "cell_type": "code",
      "execution_count": null,
      "metadata": {
        "id": "Gg4J6IVl74wM"
      },
      "outputs": [],
      "source": [
        "class Discriminator(nn.Module):\n",
        "    \"\"\" Network for deciding whether a MNIST image is real or fake. \"\"\"\n",
        "\n",
        "    def __init__(self):\n",
        "        super().__init__()\n",
        "        self.model = nn.Sequential(\n",
        "            nn.Conv2d(1, 8, 4, stride=2),\n",
        "            nn.ELU(),\n",
        "            nn.Conv2d(8, 32, 3, stride=2),\n",
        "            nn.ELU(),\n",
        "            # (old-school) global average pooling\n",
        "            nn.Conv2d(32, 64, 6),\n",
        "            nn.ELU(),\n",
        "            nn.Flatten(),\n",
        "            nn.Linear(64, 1)\n",
        "        )\n",
        "\n",
        "    def forward(self, x):\n",
        "        return self.model(x)\n",
        "\n",
        "    @torch.no_grad()\n",
        "    def probabilities(self, x):\n",
        "        \"\"\"\n",
        "        Compute probability of inputs being real.\n",
        "\n",
        "        Parameters\n",
        "        ----------\n",
        "        x : torch.Tensor\n",
        "            The inputs to compute the probabilities for.\n",
        "\n",
        "        Returns\n",
        "        -------\n",
        "        p : torch.Tensor\n",
        "            Values between 0 (fake) and 1 (real).\n",
        "\n",
        "        Notes\n",
        "        -----\n",
        "        Gradient computations are disabled.\n",
        "        \"\"\"\n",
        "        logits = self.model(x)\n",
        "        return torch.sigmoid(logits)\n",
        "\n",
        "    @torch.no_grad()\n",
        "    def predict(self, x):\n",
        "        \"\"\"\n",
        "        Make a hard prediction on fake or real.\n",
        "\n",
        "        Parameters\n",
        "        ----------\n",
        "        x : torch.Tensor\n",
        "            The inputs to compute the prediction for.\n",
        "\n",
        "        Returns\n",
        "        -------\n",
        "        y : torch.Tensor\n",
        "            Either 0 (fake) or 1 (real).\n",
        "\n",
        "        Notes\n",
        "        -----\n",
        "        Gradient computations are disabled.\n",
        "        \"\"\"\n",
        "        logits = self.model(x)\n",
        "        return (logits > 0).int()"
      ]
    },
    {
      "cell_type": "markdown",
      "metadata": {
        "id": "BdLTFlTx74wN"
      },
      "source": [
        "###### Paradox of the Discriminator\n",
        "\n",
        "If we compute adversarial examples for the discriminator,\n",
        "we can only get more *fake* inputs,\n",
        "since the adversaries are not part of the dataset.\n",
        "Now, a successful adversary of a *real* input,\n",
        "should be classified as a *fake*, and vice versa.\n",
        "Note that successful adversaries of *real* inputs\n",
        "will be **correctly** classified as *fake*.\n",
        "Hence, the obtained example would not really be adversarial.\n",
        "Therefore, the only truly adversarial examples for this model\n",
        "are *fake* inputs that are converted to be recongised as *real*."
      ]
    },
    {
      "cell_type": "markdown",
      "metadata": {
        "id": "_XUKwaz074wN"
      },
      "source": [
        "### Exercise 2: Discriminator Data (3 points)\n",
        "\n",
        "Training a model that is able to discriminate between *real* and *fake*,\n",
        "is not entirely straightforward.\n",
        "The main problem is to obtain a reasonable dataset\n",
        "that represents both classes equally well.\n",
        "\n",
        "One solution is to use random noise for the *fake* inputs.\n",
        "However, this often makes things too easy\n",
        "and will not produce a particularly strong model.\n",
        "To counter this issue, we can use an adversarial attack\n",
        "to make the *fake* inputs appear more real\n",
        "after every epoch of discriminator training.\n",
        "This turns out to produce a reasonable discriminator\n",
        "as well as reasonably good *fake* inputs.\n",
        "\n",
        " > Implement the `update_fake_examples` method of the `RealOrFakeDataset`\n",
        " > to implement the approach described above.\n",
        " > Make sure to keep the adversarial examples in a valid range!\n",
        "\n",
        "**Hint:** You can use the `adversarial_attack` function from the previous exercise to compute adversarial examples."
      ]
    },
    {
      "cell_type": "code",
      "execution_count": null,
      "metadata": {
        "id": "APk6W3ss74wN"
      },
      "outputs": [],
      "source": [
        "class RealOrFakeDataset(Dataset):\n",
        "    \"\"\" Dataset for enhancing a (small) dataset with fake inputs. \"\"\"\n",
        "\n",
        "    def __init__(self, real_dataset, seed: int = None):\n",
        "        super().__init__()\n",
        "        self.ref_dataset = real_dataset\n",
        "\n",
        "        # control randomness\n",
        "        rng = torch.Generator()\n",
        "        if seed is not None:\n",
        "            rng.manual_seed(seed)\n",
        "\n",
        "        # get real, pre-processed data\n",
        "        real_data = torch.stack([x for x, _ in real_dataset])\n",
        "        mean, std = real_data.mean(), real_data.std()\n",
        "        min_x, max_x = real_data.min(), real_data.max()\n",
        "        self.min_x, self.max_x = min_x, max_x\n",
        "        # generate fake data (with similar statistics)\n",
        "        self.fake_data = torch.empty_like(real_data)\n",
        "        self.fake_data.normal_(mean, std, generator=rng).clamp_(min_x, max_x)\n",
        "\n",
        "    def __getitem__(self, index):\n",
        "        new_index = index - len(self.ref_dataset)\n",
        "        if new_index < 0:\n",
        "            x, _ = self.ref_dataset[index]\n",
        "            return x, torch.ones(1)\n",
        "\n",
        "        return self.fake_data[new_index], torch.zeros(1)\n",
        "\n",
        "    def __len__(self):\n",
        "        return len(self.ref_dataset) + len(self.fake_data)\n",
        "\n",
        "    @property\n",
        "    def raw_folder(self):\n",
        "        return os.path.join(self.root, 'MNIST', 'raw')\n",
        "\n",
        "    @property\n",
        "    def processed_folder(self):\n",
        "        return os.path.join(self.root, 'MNIST', 'processed')\n",
        "\n",
        "    def update_fake_examples(self, network: nn.Module, loss_func: nn.Module,\n",
        "                             epsilon: float = .1):\n",
        "        \"\"\"\n",
        "        Update the fake examples of this dataset.\n",
        "\n",
        "        The fake examples are updated by computing adversarial examples\n",
        "        for the network that is trained with the data from this dataset.\n",
        "\n",
        "        Parameters\n",
        "        ----------\n",
        "        network : nn.Module\n",
        "            Network to use for computing adversarial examples.\n",
        "        loss_func : nn.Module\n",
        "            Loss function to use for computing adversarial examples.\n",
        "        epsilon : float, optional\n",
        "            Epsilon parameter for the adversarial attack.\n",
        "\n",
        "        Notes\n",
        "        -----\n",
        "        This method overwrites the fake samples.\n",
        "        It should not be necessary to create a new dataset\n",
        "        or set up a new data loader.\n",
        "        \"\"\"\n",
        "        device = next(network.parameters()).device\n",
        "        # YOUR CODE HERE\n",
        "        #raise NotImplementedError()\n",
        "\n",
        "        labels = torch.zeros(self.fake_data.shape[0], 1).to(device)\n",
        "\n",
        "        fake_data_ = adversarial_attack(\n",
        "\n",
        "            self.fake_data.to(device),\n",
        "            labels,\n",
        "            network ,\n",
        "            loss_func,\n",
        "            epsilon=epsilon,\n",
        "            eta = .1,\n",
        "            steps=10\n",
        "\n",
        "            )\n",
        "\n",
        "        self.fake_data = fake_data_.to(self.fake_data.device)"
      ]
    },
    {
      "cell_type": "code",
      "execution_count": null,
      "metadata": {
        "id": "IB4aJv-J74wO"
      },
      "outputs": [],
      "source": [
        "# Test Cell: do not edit or delete!\n",
        "discriminator = Discriminator()\n",
        "bce = nn.BCEWithLogitsLoss()\n",
        "data = RealOrFakeDataset(torch.utils.data.Subset(mnist_train, range(64)))\n",
        "\n",
        "old_samples = data.fake_data.clone()\n",
        "data.update_fake_examples(discriminator, bce)\n",
        "new_samples = data.fake_data\n",
        "assert torch.any(old_samples != new_samples), (\n",
        "    \"ex2: update_fake_examples does nothing (-1 point)\"\n",
        ")"
      ]
    },
    {
      "cell_type": "code",
      "execution_count": null,
      "metadata": {
        "id": "Yyew_Zzj74wP"
      },
      "outputs": [],
      "source": [
        "# Test Cell: do not edit or delete!"
      ]
    },
    {
      "cell_type": "code",
      "execution_count": null,
      "metadata": {
        "id": "NmnvRTRt74wP"
      },
      "outputs": [],
      "source": [
        "# Test Cell: do not edit or delete!\n",
        "assert torch.all(discriminator(new_samples) > discriminator(old_samples)), (\n",
        "    \"ex2: update_fake_examples does not make samples more real (-1 point)\"\n",
        ")"
      ]
    },
    {
      "cell_type": "code",
      "execution_count": null,
      "metadata": {
        "id": "W8rUpn0c74wQ"
      },
      "outputs": [],
      "source": [
        "# Test Cell: do not edit or delete!"
      ]
    },
    {
      "cell_type": "markdown",
      "metadata": {
        "id": "aIdjmHix74wR"
      },
      "source": [
        "### Exercise 3: Training the Discriminator (1 point)\n",
        "\n",
        "Finally, we can use this dataset for training the discriminator.\n",
        "By updating the *fake* inputs after every epoch of training,\n",
        "the quality of the *fake* inputs, and therefore also the discriminator,\n",
        "should improve steadily during training.\n",
        "\n",
        "Time to test if this actually works.\n",
        "The `train_discriminator` function (in the preamble)\n",
        "implements a training loop that updates the fake examples every epoch.\n",
        "The code below is able to train the discriminator to zero loss.\n",
        "However, the *fake* images do not look very realistic.\n",
        "\n",
        " > Play around with some of the hyperparameters (lr, epsilon, ...)\n",
        " > to get more realistic *fake* images,\n",
        " > so that the task of the discriminator becomes harder."
      ]
    },
    {
      "cell_type": "code",
      "execution_count": null,
      "metadata": {
        "colab": {
          "base_uri": "https://localhost:8080/",
          "height": 625
        },
        "id": "t4gOGddc74wR",
        "outputId": "7fe232cd-3f2e-4c13-f913-c0c22fb822bb"
      },
      "outputs": [
        {
          "output_type": "stream",
          "name": "stdout",
          "text": [
            "Epoch  0 - avg loss: 0.691680\n",
            "D probs: 0.52, 0.52, 0.50, 0.51, 0.51, 0.49, 0.50, 0.51, 0.49, 0.50\n"
          ]
        },
        {
          "output_type": "stream",
          "name": "stderr",
          "text": [
            "/usr/local/lib/python3.10/dist-packages/torch/nn/modules/conv.py:456: UserWarning: Plan failed with a cudnnException: CUDNN_BACKEND_EXECUTION_PLAN_DESCRIPTOR: cudnnFinalize Descriptor Failed cudnn_status: CUDNN_STATUS_NOT_SUPPORTED (Triggered internally at ../aten/src/ATen/native/cudnn/Conv_v8.cpp:919.)\n",
            "  return F.conv2d(input, weight, bias, self.stride,\n"
          ]
        },
        {
          "output_type": "display_data",
          "data": {
            "text/plain": [
              "<PIL.Image.Image image mode=L size=280x28>"
            ],
            "image/png": "[encoded data removed]"
          },
          "metadata": {
            "width": "100%"
          }
        },
        {
          "output_type": "stream",
          "name": "stderr",
          "text": [
            "/usr/local/lib/python3.10/dist-packages/torch/autograd/graph.py:744: UserWarning: Plan failed with a cudnnException: CUDNN_BACKEND_EXECUTION_PLAN_DESCRIPTOR: cudnnFinalize Descriptor Failed cudnn_status: CUDNN_STATUS_NOT_SUPPORTED (Triggered internally at ../aten/src/ATen/native/cudnn/Conv_v8.cpp:919.)\n",
            "  return Variable._execution_engine.run_backward(  # Calls into the C++ engine to run the backward pass\n",
            "/usr/local/lib/python3.10/dist-packages/torch/autograd/graph.py:744: UserWarning: Plan failed with an OutOfMemoryError: CUDA out of memory. Tried to allocate 23.36 GiB. GPU  (Triggered internally at ../aten/src/ATen/native/cudnn/Conv_v8.cpp:924.)\n",
            "  return Variable._execution_engine.run_backward(  # Calls into the C++ engine to run the backward pass\n",
            "/usr/local/lib/python3.10/dist-packages/torch/autograd/graph.py:744: UserWarning: Plan failed with an OutOfMemoryError: CUDA out of memory. Tried to allocate 12.38 GiB. GPU  (Triggered internally at ../aten/src/ATen/native/cudnn/Conv_v8.cpp:924.)\n",
            "  return Variable._execution_engine.run_backward(  # Calls into the C++ engine to run the backward pass\n"
          ]
        },
        {
          "output_type": "stream",
          "name": "stdout",
          "text": [
            "Epoch  1 - avg loss: 0.002412\n",
            "Epoch  2 - avg loss: 0.036935\n",
            "Epoch  3 - avg loss: 0.032771\n",
            "Epoch  4 - avg loss: 0.013884\n",
            "Epoch  5 - avg loss: 0.022494\n",
            "D probs: 1.00, 1.00, 1.00, 1.00, 1.00, 1.00, 1.00, 0.99, 1.00, 1.00\n"
          ]
        },
        {
          "output_type": "display_data",
          "data": {
            "text/plain": [
              "<PIL.Image.Image image mode=L size=280x28>"
            ],
            "image/png": "[encoded data removed]"
          },
          "metadata": {
            "width": "100%"
          }
        },
        {
          "output_type": "stream",
          "name": "stdout",
          "text": [
            "Epoch  6 - avg loss: 0.020717\n",
            "Epoch  7 - avg loss: 0.023806\n",
            "Epoch  8 - avg loss: 0.033874\n",
            "Epoch  9 - avg loss: 0.025040\n",
            "Epoch  10 - avg loss: 0.025984\n",
            "D probs: 1.00, 1.00, 1.00, 1.00, 1.00, 1.00, 1.00, 1.00, 1.00, 1.00\n"
          ]
        },
        {
          "output_type": "display_data",
          "data": {
            "text/plain": [
              "<PIL.Image.Image image mode=L size=280x28>"
            ],
            "image/png": "[encoded data removed]"
          },
          "metadata": {
            "width": "100%"
          }
        },
        {
          "output_type": "stream",
          "name": "stdout",
          "text": [
            "Epoch  11 - avg loss: 0.024832\n",
            "Epoch  12 - avg loss: 0.028973\n",
            "Epoch  13 - avg loss: 0.024425\n",
            "Epoch  14 - avg loss: 0.028599\n",
            "Epoch  15 - avg loss: 0.019801\n",
            "D probs: 1.00, 1.00, 1.00, 1.00, 1.00, 1.00, 1.00, 1.00, 1.00, 1.00\n"
          ]
        },
        {
          "output_type": "display_data",
          "data": {
            "text/plain": [
              "<PIL.Image.Image image mode=L size=280x28>"
            ],
            "image/png": "[encoded data removed]"
          },
          "metadata": {
            "width": "100%"
          }
        }
      ],
      "source": [
        "d_data = RealOrFakeDataset(mnist_train)\n",
        "d_loader = DataLoader(d_data, batch_size=128, shuffle=True)\n",
        "\n",
        "discriminator = Discriminator().to(device)\n",
        "trainer = DiscriminatorTrainer(\n",
        "    model=discriminator,\n",
        "    criterion=nn.BCEWithLogitsLoss(),\n",
        "    optimiser=optim.Adam(discriminator.parameters(), lr=0.002),\n",
        "    dataset=d_data,\n",
        "    epsilon=0.4\n",
        ")\n",
        "\n",
        "# YOUR CODE HERE\n",
        "#raise NotImplementedError()\n",
        "\n",
        "_ = trainer.train(d_loader, num_epochs=15, vis_every=5)"
      ]
    },
    {
      "cell_type": "markdown",
      "metadata": {
        "id": "dSMGPFiw74wR"
      },
      "source": [
        "## Generative Adversarial Modelling\n",
        "\n",
        "The previously discussed approach, using adversarial training,\n",
        "is able to create somewhat realistic inputs.\n",
        "Although it might be considered a way to generate new images,\n",
        "it is not very practical because it does not allow\n",
        "to generate samples after training.\n",
        "\n",
        "Although Generative Adversarial Nets (GANs)\n",
        "do not really have a connection with adversarial examples\n",
        "(except for the main author and the name),\n",
        "the goal is also to \"fool\" a discriminator network.\n",
        "Instead of using adversarial examples as *false* examples, however,\n",
        "GANs use a decoder-style network, referred to as *generator*\n",
        "that maps from a known distribution to the input space."
      ]
    },
    {
      "cell_type": "code",
      "execution_count": null,
      "metadata": {
        "id": "2TdwxStE74wS"
      },
      "outputs": [],
      "source": [
        "class Generator(nn.Module):\n",
        "    \"\"\" Network for creating fake MNIST images. \"\"\"\n",
        "\n",
        "    def __init__(self, latent_dim: int = 64):\n",
        "        \"\"\"\n",
        "        Parameters\n",
        "        ----------\n",
        "        latent_dim : int, optional\n",
        "            Dimensions of the latent space, from which to sample.\n",
        "        \"\"\"\n",
        "        super().__init__()\n",
        "        self.latent_dim = latent_dim\n",
        "        self.model = nn.Sequential(\n",
        "            nn.ConvTranspose2d(latent_dim, 32, 6),\n",
        "            nn.ELU(),\n",
        "            nn.ConvTranspose2d(32, 8, 3, stride=2),\n",
        "            nn.ELU(),\n",
        "            nn.ConvTranspose2d(8, 1, 4, stride=2),\n",
        "        )\n",
        "\n",
        "    def forward(self, z):\n",
        "        x = self.model(z.view(-1, self.latent_dim, 1, 1))\n",
        "        return x\n",
        "\n",
        "    @torch.no_grad()\n",
        "    def sample(self, batch_size: int):\n",
        "        \"\"\"\n",
        "        Sample in the latent space of the generator.\n",
        "\n",
        "        Parameters\n",
        "        ----------\n",
        "        batch_size : int\n",
        "            Number of samples to sample.\n",
        "\n",
        "        Returns\n",
        "        -------\n",
        "        z : (batch_size, latent_dim) torch.Tensor\n",
        "            A random vector in the latent space.\n",
        "\n",
        "        Notes\n",
        "        -----\n",
        "        Gradient computations are disabled.\n",
        "        \"\"\"\n",
        "        z = torch.randn(batch_size, self.latent_dim)\n",
        "        return z.to(self.model[0].weight.device)\n",
        "\n",
        "    @torch.no_grad()\n",
        "    def generate(self, z = None, batch_size: int = 1, bounded: bool = True):\n",
        "        \"\"\"\n",
        "        Generate one or more random images.\n",
        "\n",
        "        Parameters\n",
        "        ----------\n",
        "        z : (N, latent_dim) torch.Tensor\n",
        "            Latent vector(s) to use for generation.\n",
        "        batch_size : int, optional\n",
        "            Number of images to generate.\n",
        "            This parameter is ignored if `z` is specified.\n",
        "        bounded : bool, optional\n",
        "            Flag to assure that pixel values are in a valid range.\n",
        "\n",
        "        Returns\n",
        "        -------\n",
        "        x : (batch_size, C, H, W) torch.Tensor\n",
        "            Generated image(s).\n",
        "        \"\"\"\n",
        "        if z is None:\n",
        "            z = self.sample(batch_size)\n",
        "\n",
        "        raw = self.forward(z)\n",
        "\n",
        "        if bounded:\n",
        "            raw.clamp_(-0.4242, 2.8215)  # MNIST range\n",
        "\n",
        "        return raw"
      ]
    },
    {
      "cell_type": "markdown",
      "metadata": {
        "id": "ZD4xpKbV74wS"
      },
      "source": [
        "### Excercise 4: Min-Max Game (6 points)\n",
        "\n",
        "\n",
        "The goal of the generator is to create images that maximise the loss\n",
        "that the discriminator attempts to minimise.\n",
        "The result is a min-max game between generator and discriminator.\n",
        "Mathematically, this leads to the following optimisation target:\n",
        "$$\\begin{aligned}\n",
        "\\max_d \\min_g \\mathbb{E}[\\log d(X)] + \\mathbb{E}[\\log(1 - d(g(Z)))].\n",
        "\\end{aligned}$$\n",
        "Note that this function is simply the negated binary cross-entropy loss.\n",
        "\n",
        " > Finish the implementation of the `update_gan` function,\n",
        " > including the `generator_error` and `discriminator_error` functions.\n",
        " > Make sure that the generator-error is used to update only the generator,\n",
        " > i.e. does not affect the discriminator, and vice versa.\n",
        " > To achieve this, you will need to control the gradients\n",
        " > with the techniques discussed in assignment 1.\n",
        " > Also, you do not want to directly maximise the error term for the generator,\n",
        " > since it suffers from vanishing gradients.\n",
        " > Think about an alternative, but equivalent optimisation problem.\n"
      ]
    },
    {
      "cell_type": "code",
      "execution_count": null,
      "metadata": {
        "id": "HPfb-0jq74wT"
      },
      "outputs": [],
      "source": [
        "def generator_error(gan: nn.Module, real_x: torch.Tensor, loss_func: nn.Module):\n",
        "    \"\"\"\n",
        "    Construct the gradient graph for updating the generator.\n",
        "\n",
        "    Parameters\n",
        "    ----------\n",
        "    gan : nn.Module\n",
        "        Module with `generator` and `discriminator` sub-modules.\n",
        "    real_x: torch.Tensor\n",
        "        Mini-batch from target distribution.\n",
        "    loss_func: nn.Module\n",
        "        Loss function taking logits and target values.\n",
        "\n",
        "    Returns\n",
        "    -------\n",
        "    err : torch.Tensor\n",
        "        Scalar tensor with graph for updating generator.\n",
        "    \"\"\"\n",
        "    # YOUR CODE HERE\n",
        "    #raise NotImplementedError()\n",
        "\n",
        "    num_samples = real_x.size(0)\n",
        "\n",
        "    fake_z = gan.generator.sample(num_samples)\n",
        "    fake_x = gan.generator(fake_z)\n",
        "\n",
        "    fake_x.clamp_(min=-0.4242, max=2.8215) # MNIST range\n",
        "    discriminator_output = gan.discriminator(fake_x)\n",
        "\n",
        "    err = loss_func(discriminator_output, torch.ones_like(discriminator_output))\n",
        "\n",
        "\n",
        "    return err.mean()"
      ]
    },
    {
      "cell_type": "code",
      "execution_count": null,
      "metadata": {
        "id": "UKPh-xvj74wT"
      },
      "outputs": [],
      "source": [
        "# Test Cell: do not edit or delete!\n",
        "gan = nn.ModuleDict({\n",
        "    'generator': Generator(),\n",
        "    'discriminator': Discriminator()\n",
        "})\n",
        "bce = nn.BCEWithLogitsLoss()\n",
        "\n",
        "try:\n",
        "    err = generator_error(gan, torch.randn(5, 1, 28, 28), bce)\n",
        "    grads = torch.autograd.grad(err, gan.generator.parameters())\n",
        "except RuntimeError:\n",
        "    raise AssertionError(\n",
        "        \"ex4: generator_error does not allow to compute gradients (-1 point)\"\n",
        "    )"
      ]
    },
    {
      "cell_type": "code",
      "execution_count": null,
      "metadata": {
        "id": "SR9Rcwj974wU"
      },
      "outputs": [],
      "source": [
        "# Test Cell: do not edit or delete!"
      ]
    },
    {
      "cell_type": "code",
      "execution_count": null,
      "metadata": {
        "id": "VfbBOru874wU"
      },
      "outputs": [],
      "source": [
        "def discriminator_error(gan: nn.Module, real_x: torch.Tensor, loss_func: nn.Module):\n",
        "    \"\"\"\n",
        "    Construct the gradient graph for updating the discriminator.\n",
        "\n",
        "    Parameters\n",
        "    ----------\n",
        "    gan : nn.Module\n",
        "        Module with `generator` and `discriminator` sub-modules.\n",
        "    real_x: torch.Tensor\n",
        "        Mini-batch from target distribution.\n",
        "    loss_func: nn.Module\n",
        "        Loss function taking logits and target values.\n",
        "\n",
        "    Returns\n",
        "    -------\n",
        "    err : torch.Tensor\n",
        "        Scalar tensor with graph for updating discriminator.\n",
        "    \"\"\"\n",
        "    # YOUR CODE HERE\n",
        "    #raise NotImplementedError()\n",
        "\n",
        "\n",
        "    batch_size = real_x.shape[0]\n",
        "\n",
        "    fake_x = gan.generator.generate(batch_size = batch_size)\n",
        "\n",
        "    fake_logits = gan.discriminator(fake_x)\n",
        "    real_logits = gan.discriminator(real_x)\n",
        "\n",
        "    # Calculate the loss for the fake data and real data\n",
        "    real_loss = loss_func(real_logits, torch.ones_like(real_logits))\n",
        "    fake_loss = loss_func(fake_logits, torch.zeros_like(fake_logits))\n",
        "\n",
        "    err = real_loss + fake_loss\n",
        "\n",
        "    return err\n"
      ]
    },
    {
      "cell_type": "code",
      "execution_count": null,
      "metadata": {
        "id": "CTfJ5zvp74wV"
      },
      "outputs": [],
      "source": [
        "# Test Cell: do not edit or delete!\n",
        "gan = nn.ModuleDict({\n",
        "    'generator': Generator(),\n",
        "    'discriminator': Discriminator()\n",
        "})\n",
        "bce = nn.BCEWithLogitsLoss()\n",
        "\n",
        "try:\n",
        "    err = discriminator_error(gan, torch.randn(5, 1, 28, 28), bce)\n",
        "    grads = torch.autograd.grad(err, gan.discriminator.parameters())\n",
        "except RuntimeError:\n",
        "    raise AssertionError(\n",
        "        \"ex4: discriminator_error does not allow to compute gradients (-1 point)\"\n",
        "    )"
      ]
    },
    {
      "cell_type": "code",
      "execution_count": null,
      "metadata": {
        "id": "Oy_ktpi974wV"
      },
      "outputs": [],
      "source": [
        "# Test Cell: do not edit or delete!"
      ]
    },
    {
      "cell_type": "code",
      "execution_count": null,
      "metadata": {
        "id": "zzEW007774wV"
      },
      "outputs": [],
      "source": [
        "def update_gan(gan: nn.Module, loader: DataLoader, loss_func: nn.Module,\n",
        "               opt: optim.Optimizer):\n",
        "    \"\"\"\n",
        "    Train GAN for one epoch.\n",
        "\n",
        "    Parameters\n",
        "    ----------\n",
        "    gan : nn.Module\n",
        "        Module with `generator` and `discriminator` sub-modules.\n",
        "    loader : DataLoader\n",
        "        Standard, supervised data loader with samples from target distribution.\n",
        "    loss_func : nn.Module\n",
        "        Loss function taking logits and target values.\n",
        "    opt : optim.Optimizer\n",
        "        Optimiser for updating GAN parameters.\n",
        "\n",
        "    Returns\n",
        "    -------\n",
        "    g_errs : list\n",
        "        List of computed errors for generator update in each batch.\n",
        "    d_errs : list\n",
        "        List of computed errors for discriminator update in each batch.\n",
        "    \"\"\"\n",
        "    gan.train()\n",
        "    device = next(gan.parameters()).device\n",
        "\n",
        "    d_errs, g_errs = [], []\n",
        "    for x, _ in loader:\n",
        "        x = x.to(device)\n",
        "        # YOUR CODE HERE\n",
        "        # raise NotImplementedError()\n",
        "\n",
        "\n",
        "        opt.zero_grad()\n",
        "        # Compute the discriminator error using the provided GAN model.\n",
        "        d_err = discriminator_error(gan, x, loss_func)\n",
        "        # Perform backpropagation to compute the gradients for the discriminator.\n",
        "        d_err.backward()\n",
        "        d_errs.append(d_err.item())\n",
        "\n",
        "        # Compute the discriminator error using the provided GAN model.\n",
        "        g_err = generator_error(gan, x, loss_func)\n",
        "        g_err.backward()\n",
        "        # Append the computed generator error\n",
        "        g_errs.append(g_err.item())\n",
        "        # Update the weights of both the discriminator and the generator\n",
        "        opt.step()\n",
        "\n",
        "    #List of computed errors for discriminator update in each batch.\n",
        "    return  d_errs, g_errs"
      ]
    },
    {
      "cell_type": "code",
      "execution_count": null,
      "metadata": {
        "colab": {
          "base_uri": "https://localhost:8080/"
        },
        "id": "0Tyhn5Rb74wW",
        "outputId": "86e3690d-7331-47b1-b00a-a31acaa2cdf0"
      },
      "outputs": [
        {
          "output_type": "stream",
          "name": "stderr",
          "text": [
            "/usr/local/lib/python3.10/dist-packages/torch/utils/data/dataloader.py:558: UserWarning: This DataLoader will create 4 worker processes in total. Our suggested max number of worker in current system is 2, which is smaller than what this DataLoader is going to create. Please be aware that excessive worker creation might get DataLoader running slow or even freeze, lower the worker number to avoid potential slowness/freeze if necessary.\n",
            "  warnings.warn(_create_warning_msg(\n"
          ]
        }
      ],
      "source": [
        "# Test Cell: do not edit or delete!\n",
        "gan = nn.ModuleDict({\n",
        "    'generator': Generator(),\n",
        "    'discriminator': Discriminator()\n",
        "}).to(device)\n",
        "bce = nn.BCEWithLogitsLoss()\n",
        "opt = optim.Adam(gan.parameters(), lr=1e-3)\n",
        "\n",
        "old_pars = {k: v.clone() for k, v in gan.state_dict().items()}\n",
        "g_errs, d_errs = update_gan(gan, [next(iter(train_loader))], bce, opt)\n",
        "assert len(g_errs) == len(test_loader), (\n",
        "    \"ex4: wrong number of generator errors in update_gan(-1 point)\"\n",
        ")\n",
        "assert len(d_errs) == len(test_loader), (\n",
        "    \"ex4: wrong number of discriminator errors in update_gan (-1 point)\"\n",
        ")"
      ]
    },
    {
      "cell_type": "code",
      "execution_count": null,
      "metadata": {
        "id": "pEbHrYc674wW"
      },
      "outputs": [],
      "source": [
        "# Test Cell: do not edit or delete!\n",
        "assert all(\n",
        "    torch.any(old_pars[k] != par) for k, par in gan.state_dict().items()\n",
        "), \"ex4: update_gan does not update all parameters (-1 points)\""
      ]
    },
    {
      "cell_type": "code",
      "execution_count": null,
      "metadata": {
        "id": "z-zB5Nqz74wW"
      },
      "outputs": [],
      "source": [
        "# Test Cell: do not edit or delete!"
      ]
    },
    {
      "cell_type": "code",
      "execution_count": null,
      "metadata": {
        "colab": {
          "base_uri": "https://localhost:8080/",
          "height": 729
        },
        "id": "WPbpTmJ374wX",
        "outputId": "422c4cb4-01ad-4124-d76d-ea4a9f02969d"
      },
      "outputs": [
        {
          "output_type": "stream",
          "name": "stdout",
          "text": [
            "Epoch  0 - avg G loss: 0.65492, avg D loss: 1.38903\n",
            "D probs: 0.52, 0.52, 0.52, 0.52, 0.52, 0.52, 0.52, 0.52, 0.52, 0.52\n"
          ]
        },
        {
          "output_type": "display_data",
          "data": {
            "text/plain": [
              "<PIL.Image.Image image mode=L size=280x28>"
            ],
            "image/png": "[encoded data removed]"
          },
          "metadata": {
            "width": "100%"
          }
        },
        {
          "output_type": "stream",
          "name": "stdout",
          "text": [
            "Epoch  1 - avg G loss: 1.11210, avg D loss: 0.55877\n",
            "Epoch  2 - avg G loss: 1.33145, avg D loss: 0.47854\n",
            "Epoch  3 - avg G loss: 1.40880, avg D loss: 0.44692\n",
            "Epoch  4 - avg G loss: 1.34159, avg D loss: 0.46783\n",
            "Epoch  5 - avg G loss: 1.27130, avg D loss: 0.49517\n",
            "D probs: 0.46, 0.64, 0.60, 0.53, 0.60, 0.55, 0.43, 0.48, 0.52, 0.71\n"
          ]
        },
        {
          "output_type": "display_data",
          "data": {
            "text/plain": [
              "<PIL.Image.Image image mode=L size=280x28>"
            ],
            "image/png": "[encoded data removed]"
          },
          "metadata": {
            "width": "100%"
          }
        },
        {
          "output_type": "stream",
          "name": "stdout",
          "text": [
            "Epoch  6 - avg G loss: 1.25974, avg D loss: 0.50211\n",
            "Epoch  7 - avg G loss: 1.28699, avg D loss: 0.49391\n",
            "Epoch  8 - avg G loss: 1.31314, avg D loss: 0.48678\n",
            "Epoch  9 - avg G loss: 1.31965, avg D loss: 0.48608\n",
            "Epoch  10 - avg G loss: 1.33057, avg D loss: 0.47807\n",
            "D probs: 0.77, 0.52, 0.62, 0.69, 0.65, 0.63, 0.51, 0.61, 0.58, 0.50\n"
          ]
        },
        {
          "output_type": "display_data",
          "data": {
            "text/plain": [
              "<PIL.Image.Image image mode=L size=280x28>"
            ],
            "image/png": "[encoded data removed]"
          },
          "metadata": {
            "width": "100%"
          }
        },
        {
          "output_type": "stream",
          "name": "stdout",
          "text": [
            "Epoch  11 - avg G loss: 1.33359, avg D loss: 0.47818\n",
            "Epoch  12 - avg G loss: 1.32965, avg D loss: 0.48110\n",
            "Epoch  13 - avg G loss: 1.32953, avg D loss: 0.47811\n",
            "Epoch  14 - avg G loss: 1.32239, avg D loss: 0.48208\n",
            "Epoch  15 - avg G loss: 1.31747, avg D loss: 0.48441\n",
            "D probs: 0.73, 0.72, 0.52, 0.55, 0.68, 0.63, 0.89, 0.55, 0.64, 0.62\n"
          ]
        },
        {
          "output_type": "display_data",
          "data": {
            "text/plain": [
              "<PIL.Image.Image image mode=L size=280x28>"
            ],
            "image/png": "[encoded data removed]"
          },
          "metadata": {
            "width": "100%"
          }
        },
        {
          "output_type": "stream",
          "name": "stdout",
          "text": [
            "Epoch  16 - avg G loss: 1.31863, avg D loss: 0.48112\n",
            "Epoch  17 - avg G loss: 1.31567, avg D loss: 0.48569\n",
            "Epoch  18 - avg G loss: 1.30554, avg D loss: 0.48756\n",
            "Epoch  19 - avg G loss: 1.30321, avg D loss: 0.49251\n",
            "Epoch  20 - avg G loss: 1.30262, avg D loss: 0.48816\n",
            "D probs: 0.60, 0.61, 0.78, 0.48, 0.62, 0.57, 0.34, 0.47, 0.53, 0.56\n"
          ]
        },
        {
          "output_type": "display_data",
          "data": {
            "text/plain": [
              "<PIL.Image.Image image mode=L size=280x28>"
            ],
            "image/png": "[encoded data removed]"
          },
          "metadata": {
            "width": "100%"
          }
        },
        {
          "output_type": "stream",
          "name": "stdout",
          "text": [
            "Epoch  21 - avg G loss: 1.29824, avg D loss: 0.49102\n",
            "Epoch  22 - avg G loss: 1.29750, avg D loss: 0.49178\n",
            "Epoch  23 - avg G loss: 1.29258, avg D loss: 0.49345\n",
            "Epoch  24 - avg G loss: 1.28396, avg D loss: 0.49689\n",
            "Epoch  25 - avg G loss: 1.28533, avg D loss: 0.49873\n",
            "D probs: 0.53, 0.72, 0.65, 0.70, 0.61, 0.42, 0.40, 0.65, 0.54, 0.51\n"
          ]
        },
        {
          "output_type": "display_data",
          "data": {
            "text/plain": [
              "<PIL.Image.Image image mode=L size=280x28>"
            ],
            "image/png": "[encoded data removed]"
          },
          "metadata": {
            "width": "100%"
          }
        }
      ],
      "source": [
        "# sanity check\n",
        "gan = nn.ModuleDict({\n",
        "    'generator': Generator(),\n",
        "    'discriminator': Discriminator()\n",
        "}).to(device)\n",
        "bce = nn.BCEWithLogitsLoss()\n",
        "opt = optim.Adam([\n",
        "    {'params': gan.generator.parameters(), 'lr': 1e-3},\n",
        "    {'params': gan.discriminator.parameters(), 'lr': 2e-4}\n",
        "])\n",
        "train_gan(gan, train_loader, bce, opt, num_epochs=25)"
      ]
    }
  ],
  "metadata": {
    "accelerator": "GPU",
    "colab": {
      "gpuType": "T4",
      "provenance": []
    },
    "kernelspec": {
      "display_name": "Python 3",
      "name": "python3"
    },
    "language_info": {
      "codemirror_mode": {
        "name": "ipython",
        "version": 3
      },
      "file_extension": ".py",
      "mimetype": "text/x-python",
      "name": "python",
      "nbconvert_exporter": "python",
      "pygments_lexer": "ipython3",
      "version": "3.10.0"
    }
  },
  "nbformat": 4,
  "nbformat_minor": 0
}